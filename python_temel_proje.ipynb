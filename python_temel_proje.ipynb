{
 "cells": [
  {
   "cell_type": "markdown",
   "id": "a02d0afc",
   "metadata": {},
   "source": [
    " 1- Bir listeyi düzleştiren (flatten) fonksiyon yazın. Elemanları birden çok katmanlı listtlerden ([[3],2] gibi) oluşabileceği gibi, non-scalar verilerden de oluşabilir. Örnek olarak:\n",
    "\n",
    "input: [[1,'a',['cat'],2],[[[3]],'dog'],4,5]\n",
    "\n",
    "output: [1,'a','cat',2,3,'dog',4,5]"
   ]
  },
  {
   "cell_type": "code",
   "execution_count": 21,
   "id": "2a1ba6c5",
   "metadata": {},
   "outputs": [],
   "source": [
    "sep_list=[]\n",
    "def sep1(l):   \n",
    "    for i in l:\n",
    "        if type(i)!=list:\n",
    "            sep_list.append(i)\n",
    "        else:\n",
    "            sep1(i)\n",
    "    return sep_list\n"
   ]
  },
  {
   "cell_type": "code",
   "execution_count": 22,
   "id": "30616371",
   "metadata": {},
   "outputs": [],
   "source": [
    "example_list=[[1,[8,9],'a',['cat'],2],[[[3,[4,7]],'dog'],4,5]]"
   ]
  },
  {
   "cell_type": "code",
   "execution_count": 24,
   "id": "39bd1375",
   "metadata": {
    "scrolled": true
   },
   "outputs": [
    {
     "name": "stdout",
     "output_type": "stream",
     "text": [
      "Example list:   [[1, [8, 9], 'a', ['cat'], 2], [[[3, [4, 7]], 'dog'], 4, 5]]\n",
      "Flattened list: [1, 8, 9, 'a', 'cat', 2, 3, 4, 7, 'dog', 4, 5]\n"
     ]
    }
   ],
   "source": [
    "\n",
    "print(f\"Example list:   {example_list}\")\n",
    "print(f\"Flattened list: {sep1(example_list)}\")"
   ]
  },
  {
   "cell_type": "code",
   "execution_count": null,
   "id": "59a61f05",
   "metadata": {},
   "outputs": [],
   "source": []
  },
  {
   "cell_type": "code",
   "execution_count": null,
   "id": "70a84af9",
   "metadata": {},
   "outputs": [],
   "source": []
  },
  {
   "cell_type": "markdown",
   "id": "cd60ee08",
   "metadata": {},
   "source": [
    "2- Verilen listenin içindeki elemanları tersine döndüren bir fonksiyon yazın. Eğer listenin içindeki elemanlar da liste içeriyorsa onların elemanlarını da tersine döndürün. Örnek olarak:\n",
    "\n",
    "input: [[1, 2], [3, 4], [5, 6, 7]]\n",
    "\n",
    "output: [[[7, 6, 5], [4, 3], [2, 1]]"
   ]
  },
  {
   "cell_type": "code",
   "execution_count": 39,
   "id": "7637e691",
   "metadata": {},
   "outputs": [],
   "source": [
    "def rev(l):\n",
    "    l.reverse()\n",
    "    for i in l:\n",
    "        if type(i)==list:\n",
    "            rev(i)\n",
    "    return(l)"
   ]
  },
  {
   "cell_type": "code",
   "execution_count": 40,
   "id": "90cba523",
   "metadata": {},
   "outputs": [],
   "source": [
    "example_list=[[1, 2], [3, 4], [5, 6, [7,8,11]]]"
   ]
  },
  {
   "cell_type": "code",
   "execution_count": 41,
   "id": "952685ee",
   "metadata": {},
   "outputs": [
    {
     "name": "stdout",
     "output_type": "stream",
     "text": [
      "Example list:   [[1, 2], [3, 4], [5, 6, [7, 8, 11]]]\n",
      "Reversed list: [[[11, 8, 7], 6, 5], [4, 3], [2, 1]]\n"
     ]
    }
   ],
   "source": [
    "print(f\"Example list:   {example_list}\")\n",
    "print(f\"Reversed list: {rev(example_list)}\")"
   ]
  }
 ],
 "metadata": {
  "kernelspec": {
   "display_name": "Python 3",
   "language": "python",
   "name": "python3"
  },
  "language_info": {
   "codemirror_mode": {
    "name": "ipython",
    "version": 3
   },
   "file_extension": ".py",
   "mimetype": "text/x-python",
   "name": "python",
   "nbconvert_exporter": "python",
   "pygments_lexer": "ipython3",
   "version": "3.8.8"
  }
 },
 "nbformat": 4,
 "nbformat_minor": 5
}
